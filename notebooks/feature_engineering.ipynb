{
 "cells": [
  {
   "cell_type": "markdown",
   "metadata": {},
   "source": [
    "# Feature Engineering\n",
    "\n",
    "---\n",
    "\n",
    "1. Import packages\n",
    "2. Load data\n",
    "3. Feature engineering\n",
    "\n",
    "---\n",
    "\n",
    "## 1. Import packages"
   ]
  },
  {
   "cell_type": "code",
   "execution_count": 1,
   "metadata": {},
   "outputs": [],
   "source": [
    "import pandas as pd\n",
    "import numpy as np\n",
    "import matplotlib.pyplot as plt\n",
    "import seaborn as sns\n",
    "from mpl_toolkits.mplot3d import Axes3D"
   ]
  },
  {
   "cell_type": "markdown",
   "metadata": {},
   "source": [
    "---\n",
    "## 2. Load data"
   ]
  },
  {
   "cell_type": "code",
   "execution_count": 2,
   "metadata": {},
   "outputs": [
    {
     "name": "stdout",
     "output_type": "stream",
     "text": [
      "0        1\n",
      "1        0\n",
      "2        0\n",
      "3        0\n",
      "4        0\n",
      "        ..\n",
      "14601    0\n",
      "14602    1\n",
      "14603    1\n",
      "14604    0\n",
      "14605    0\n",
      "Name: churn, Length: 14606, dtype: int64\n"
     ]
    }
   ],
   "source": [
    "df = pd.read_csv('./../data/client_data.csv')\n",
    "df[\"date_activ\"] = pd.to_datetime(df[\"date_activ\"], format='%Y-%m-%d')\n",
    "df[\"date_end\"] = pd.to_datetime(df[\"date_end\"], format='%Y-%m-%d')\n",
    "df[\"date_modif_prod\"] = pd.to_datetime(df[\"date_modif_prod\"], format='%Y-%m-%d')\n",
    "df[\"date_renewal\"] = pd.to_datetime(df[\"date_renewal\"], format='%Y-%m-%d')\n",
    "print(df['churn'])"
   ]
  },
  {
   "cell_type": "code",
   "execution_count": 3,
   "metadata": {},
   "outputs": [
    {
     "data": {
      "text/html": [
       "<div>\n",
       "<style scoped>\n",
       "    .dataframe tbody tr th:only-of-type {\n",
       "        vertical-align: middle;\n",
       "    }\n",
       "\n",
       "    .dataframe tbody tr th {\n",
       "        vertical-align: top;\n",
       "    }\n",
       "\n",
       "    .dataframe thead th {\n",
       "        text-align: right;\n",
       "    }\n",
       "</style>\n",
       "<table border=\"1\" class=\"dataframe\">\n",
       "  <thead>\n",
       "    <tr style=\"text-align: right;\">\n",
       "      <th></th>\n",
       "      <th>id</th>\n",
       "      <th>channel_sales</th>\n",
       "      <th>cons_12m</th>\n",
       "      <th>cons_gas_12m</th>\n",
       "      <th>cons_last_month</th>\n",
       "      <th>date_activ</th>\n",
       "      <th>date_end</th>\n",
       "      <th>date_modif_prod</th>\n",
       "      <th>date_renewal</th>\n",
       "      <th>forecast_cons_12m</th>\n",
       "      <th>...</th>\n",
       "      <th>has_gas</th>\n",
       "      <th>imp_cons</th>\n",
       "      <th>margin_gross_pow_ele</th>\n",
       "      <th>margin_net_pow_ele</th>\n",
       "      <th>nb_prod_act</th>\n",
       "      <th>net_margin</th>\n",
       "      <th>num_years_antig</th>\n",
       "      <th>origin_up</th>\n",
       "      <th>pow_max</th>\n",
       "      <th>churn</th>\n",
       "    </tr>\n",
       "  </thead>\n",
       "  <tbody>\n",
       "    <tr>\n",
       "      <th>0</th>\n",
       "      <td>24011ae4ebbe3035111d65fa7c15bc57</td>\n",
       "      <td>foosdfpfkusacimwkcsosbicdxkicaua</td>\n",
       "      <td>0</td>\n",
       "      <td>54946</td>\n",
       "      <td>0</td>\n",
       "      <td>2013-06-15</td>\n",
       "      <td>2016-06-15</td>\n",
       "      <td>2015-11-01</td>\n",
       "      <td>2015-06-23</td>\n",
       "      <td>0.00</td>\n",
       "      <td>...</td>\n",
       "      <td>t</td>\n",
       "      <td>0.0</td>\n",
       "      <td>25.44</td>\n",
       "      <td>25.44</td>\n",
       "      <td>2</td>\n",
       "      <td>678.99</td>\n",
       "      <td>3</td>\n",
       "      <td>lxidpiddsbxsbosboudacockeimpuepw</td>\n",
       "      <td>43.648</td>\n",
       "      <td>1</td>\n",
       "    </tr>\n",
       "    <tr>\n",
       "      <th>1</th>\n",
       "      <td>d29c2c54acc38ff3c0614d0a653813dd</td>\n",
       "      <td>MISSING</td>\n",
       "      <td>4660</td>\n",
       "      <td>0</td>\n",
       "      <td>0</td>\n",
       "      <td>2009-08-21</td>\n",
       "      <td>2016-08-30</td>\n",
       "      <td>2009-08-21</td>\n",
       "      <td>2015-08-31</td>\n",
       "      <td>189.95</td>\n",
       "      <td>...</td>\n",
       "      <td>f</td>\n",
       "      <td>0.0</td>\n",
       "      <td>16.38</td>\n",
       "      <td>16.38</td>\n",
       "      <td>1</td>\n",
       "      <td>18.89</td>\n",
       "      <td>6</td>\n",
       "      <td>kamkkxfxxuwbdslkwifmmcsiusiuosws</td>\n",
       "      <td>13.800</td>\n",
       "      <td>0</td>\n",
       "    </tr>\n",
       "    <tr>\n",
       "      <th>2</th>\n",
       "      <td>764c75f661154dac3a6c254cd082ea7d</td>\n",
       "      <td>foosdfpfkusacimwkcsosbicdxkicaua</td>\n",
       "      <td>544</td>\n",
       "      <td>0</td>\n",
       "      <td>0</td>\n",
       "      <td>2010-04-16</td>\n",
       "      <td>2016-04-16</td>\n",
       "      <td>2010-04-16</td>\n",
       "      <td>2015-04-17</td>\n",
       "      <td>47.96</td>\n",
       "      <td>...</td>\n",
       "      <td>f</td>\n",
       "      <td>0.0</td>\n",
       "      <td>28.60</td>\n",
       "      <td>28.60</td>\n",
       "      <td>1</td>\n",
       "      <td>6.60</td>\n",
       "      <td>6</td>\n",
       "      <td>kamkkxfxxuwbdslkwifmmcsiusiuosws</td>\n",
       "      <td>13.856</td>\n",
       "      <td>0</td>\n",
       "    </tr>\n",
       "  </tbody>\n",
       "</table>\n",
       "<p>3 rows × 26 columns</p>\n",
       "</div>"
      ],
      "text/plain": [
       "                                 id                     channel_sales  \\\n",
       "0  24011ae4ebbe3035111d65fa7c15bc57  foosdfpfkusacimwkcsosbicdxkicaua   \n",
       "1  d29c2c54acc38ff3c0614d0a653813dd                           MISSING   \n",
       "2  764c75f661154dac3a6c254cd082ea7d  foosdfpfkusacimwkcsosbicdxkicaua   \n",
       "\n",
       "   cons_12m  cons_gas_12m  cons_last_month date_activ   date_end  \\\n",
       "0         0         54946                0 2013-06-15 2016-06-15   \n",
       "1      4660             0                0 2009-08-21 2016-08-30   \n",
       "2       544             0                0 2010-04-16 2016-04-16   \n",
       "\n",
       "  date_modif_prod date_renewal  forecast_cons_12m  ...  has_gas  imp_cons  \\\n",
       "0      2015-11-01   2015-06-23               0.00  ...        t       0.0   \n",
       "1      2009-08-21   2015-08-31             189.95  ...        f       0.0   \n",
       "2      2010-04-16   2015-04-17              47.96  ...        f       0.0   \n",
       "\n",
       "   margin_gross_pow_ele  margin_net_pow_ele  nb_prod_act  net_margin  \\\n",
       "0                 25.44               25.44            2      678.99   \n",
       "1                 16.38               16.38            1       18.89   \n",
       "2                 28.60               28.60            1        6.60   \n",
       "\n",
       "  num_years_antig                         origin_up  pow_max  churn  \n",
       "0               3  lxidpiddsbxsbosboudacockeimpuepw   43.648      1  \n",
       "1               6  kamkkxfxxuwbdslkwifmmcsiusiuosws   13.800      0  \n",
       "2               6  kamkkxfxxuwbdslkwifmmcsiusiuosws   13.856      0  \n",
       "\n",
       "[3 rows x 26 columns]"
      ]
     },
     "execution_count": 3,
     "metadata": {},
     "output_type": "execute_result"
    }
   ],
   "source": [
    "df.head(3)\n",
    "\n"
   ]
  },
  {
   "cell_type": "markdown",
   "metadata": {},
   "source": [
    "---\n",
    "\n",
    "## 3. Feature engineering\n",
    "\n",
    "### Difference between off-peak prices in December and preceding January\n",
    "\n",
    "Below is the code created by your colleague to calculate the feature described above. Use this code to re-create this feature and then think about ways to build on this feature to create features with a higher predictive power."
   ]
  },
  {
   "cell_type": "code",
   "execution_count": 4,
   "metadata": {},
   "outputs": [
    {
     "data": {
      "text/html": [
       "<div>\n",
       "<style scoped>\n",
       "    .dataframe tbody tr th:only-of-type {\n",
       "        vertical-align: middle;\n",
       "    }\n",
       "\n",
       "    .dataframe tbody tr th {\n",
       "        vertical-align: top;\n",
       "    }\n",
       "\n",
       "    .dataframe thead th {\n",
       "        text-align: right;\n",
       "    }\n",
       "</style>\n",
       "<table border=\"1\" class=\"dataframe\">\n",
       "  <thead>\n",
       "    <tr style=\"text-align: right;\">\n",
       "      <th></th>\n",
       "      <th>id</th>\n",
       "      <th>price_date</th>\n",
       "      <th>price_off_peak_var</th>\n",
       "      <th>price_peak_var</th>\n",
       "      <th>price_mid_peak_var</th>\n",
       "      <th>price_off_peak_fix</th>\n",
       "      <th>price_peak_fix</th>\n",
       "      <th>price_mid_peak_fix</th>\n",
       "    </tr>\n",
       "  </thead>\n",
       "  <tbody>\n",
       "    <tr>\n",
       "      <th>0</th>\n",
       "      <td>038af19179925da21a25619c5a24b745</td>\n",
       "      <td>2015-01-01</td>\n",
       "      <td>0.151367</td>\n",
       "      <td>0.0</td>\n",
       "      <td>0.0</td>\n",
       "      <td>44.266931</td>\n",
       "      <td>0.0</td>\n",
       "      <td>0.0</td>\n",
       "    </tr>\n",
       "    <tr>\n",
       "      <th>1</th>\n",
       "      <td>038af19179925da21a25619c5a24b745</td>\n",
       "      <td>2015-02-01</td>\n",
       "      <td>0.151367</td>\n",
       "      <td>0.0</td>\n",
       "      <td>0.0</td>\n",
       "      <td>44.266931</td>\n",
       "      <td>0.0</td>\n",
       "      <td>0.0</td>\n",
       "    </tr>\n",
       "    <tr>\n",
       "      <th>2</th>\n",
       "      <td>038af19179925da21a25619c5a24b745</td>\n",
       "      <td>2015-03-01</td>\n",
       "      <td>0.151367</td>\n",
       "      <td>0.0</td>\n",
       "      <td>0.0</td>\n",
       "      <td>44.266931</td>\n",
       "      <td>0.0</td>\n",
       "      <td>0.0</td>\n",
       "    </tr>\n",
       "    <tr>\n",
       "      <th>3</th>\n",
       "      <td>038af19179925da21a25619c5a24b745</td>\n",
       "      <td>2015-04-01</td>\n",
       "      <td>0.149626</td>\n",
       "      <td>0.0</td>\n",
       "      <td>0.0</td>\n",
       "      <td>44.266931</td>\n",
       "      <td>0.0</td>\n",
       "      <td>0.0</td>\n",
       "    </tr>\n",
       "    <tr>\n",
       "      <th>4</th>\n",
       "      <td>038af19179925da21a25619c5a24b745</td>\n",
       "      <td>2015-05-01</td>\n",
       "      <td>0.149626</td>\n",
       "      <td>0.0</td>\n",
       "      <td>0.0</td>\n",
       "      <td>44.266931</td>\n",
       "      <td>0.0</td>\n",
       "      <td>0.0</td>\n",
       "    </tr>\n",
       "  </tbody>\n",
       "</table>\n",
       "</div>"
      ],
      "text/plain": [
       "                                 id price_date  price_off_peak_var  \\\n",
       "0  038af19179925da21a25619c5a24b745 2015-01-01            0.151367   \n",
       "1  038af19179925da21a25619c5a24b745 2015-02-01            0.151367   \n",
       "2  038af19179925da21a25619c5a24b745 2015-03-01            0.151367   \n",
       "3  038af19179925da21a25619c5a24b745 2015-04-01            0.149626   \n",
       "4  038af19179925da21a25619c5a24b745 2015-05-01            0.149626   \n",
       "\n",
       "   price_peak_var  price_mid_peak_var  price_off_peak_fix  price_peak_fix  \\\n",
       "0             0.0                 0.0           44.266931             0.0   \n",
       "1             0.0                 0.0           44.266931             0.0   \n",
       "2             0.0                 0.0           44.266931             0.0   \n",
       "3             0.0                 0.0           44.266931             0.0   \n",
       "4             0.0                 0.0           44.266931             0.0   \n",
       "\n",
       "   price_mid_peak_fix  \n",
       "0                 0.0  \n",
       "1                 0.0  \n",
       "2                 0.0  \n",
       "3                 0.0  \n",
       "4                 0.0  "
      ]
     },
     "execution_count": 4,
     "metadata": {},
     "output_type": "execute_result"
    }
   ],
   "source": [
    "price_df = pd.read_csv('./../data/price_data.csv')\n",
    "price_df[\"price_date\"] = pd.to_datetime(price_df[\"price_date\"], format='%Y-%m-%d')\n",
    "price_df.head()"
   ]
  },
  {
   "cell_type": "code",
   "execution_count": 5,
   "metadata": {},
   "outputs": [
    {
     "data": {
      "text/html": [
       "<div>\n",
       "<style scoped>\n",
       "    .dataframe tbody tr th:only-of-type {\n",
       "        vertical-align: middle;\n",
       "    }\n",
       "\n",
       "    .dataframe tbody tr th {\n",
       "        vertical-align: top;\n",
       "    }\n",
       "\n",
       "    .dataframe thead th {\n",
       "        text-align: right;\n",
       "    }\n",
       "</style>\n",
       "<table border=\"1\" class=\"dataframe\">\n",
       "  <thead>\n",
       "    <tr style=\"text-align: right;\">\n",
       "      <th></th>\n",
       "      <th>id</th>\n",
       "      <th>offpeak_diff_dec_january_energy</th>\n",
       "      <th>offpeak_diff_dec_january_power</th>\n",
       "    </tr>\n",
       "  </thead>\n",
       "  <tbody>\n",
       "    <tr>\n",
       "      <th>0</th>\n",
       "      <td>0002203ffbb812588b632b9e628cc38d</td>\n",
       "      <td>-0.006192</td>\n",
       "      <td>0.162916</td>\n",
       "    </tr>\n",
       "    <tr>\n",
       "      <th>1</th>\n",
       "      <td>0004351ebdd665e6ee664792efc4fd13</td>\n",
       "      <td>-0.004104</td>\n",
       "      <td>0.177779</td>\n",
       "    </tr>\n",
       "    <tr>\n",
       "      <th>2</th>\n",
       "      <td>0010bcc39e42b3c2131ed2ce55246e3c</td>\n",
       "      <td>0.050443</td>\n",
       "      <td>1.500000</td>\n",
       "    </tr>\n",
       "    <tr>\n",
       "      <th>3</th>\n",
       "      <td>0010ee3855fdea87602a5b7aba8e42de</td>\n",
       "      <td>-0.010018</td>\n",
       "      <td>0.162916</td>\n",
       "    </tr>\n",
       "    <tr>\n",
       "      <th>4</th>\n",
       "      <td>00114d74e963e47177db89bc70108537</td>\n",
       "      <td>-0.003994</td>\n",
       "      <td>-0.000001</td>\n",
       "    </tr>\n",
       "  </tbody>\n",
       "</table>\n",
       "</div>"
      ],
      "text/plain": [
       "                                 id  offpeak_diff_dec_january_energy  \\\n",
       "0  0002203ffbb812588b632b9e628cc38d                        -0.006192   \n",
       "1  0004351ebdd665e6ee664792efc4fd13                        -0.004104   \n",
       "2  0010bcc39e42b3c2131ed2ce55246e3c                         0.050443   \n",
       "3  0010ee3855fdea87602a5b7aba8e42de                        -0.010018   \n",
       "4  00114d74e963e47177db89bc70108537                        -0.003994   \n",
       "\n",
       "   offpeak_diff_dec_january_power  \n",
       "0                        0.162916  \n",
       "1                        0.177779  \n",
       "2                        1.500000  \n",
       "3                        0.162916  \n",
       "4                       -0.000001  "
      ]
     },
     "execution_count": 5,
     "metadata": {},
     "output_type": "execute_result"
    }
   ],
   "source": [
    "# group off-peak prices by companies and month\n",
    "monthly_price_by_id = price_df.groupby(['id', 'price_date']).agg({'price_off_peak_var': 'mean', 'price_off_peak_fix': 'mean'}).reset_index()\n",
    "\n",
    "# get january and december prices\n",
    "jan_prices = monthly_price_by_id.groupby('id').first().reset_index()\n",
    "dec_prices = monthly_price_by_id.groupby('id').last().reset_index()\n",
    "\n",
    "# calculate the difference\n",
    "diff = pd.merge(dec_prices.rename(columns={'price_off_peak_var': 'dec_1', 'price_off_peak_fix': 'dec_2'}), jan_prices.drop(columns='price_date'), on='id')\n",
    "diff['offpeak_diff_dec_january_energy'] = diff['dec_1'] - diff['price_off_peak_var']\n",
    "diff['offpeak_diff_dec_january_power'] = diff['dec_2'] - diff['price_off_peak_fix']\n",
    "diff = diff[['id', 'offpeak_diff_dec_january_energy','offpeak_diff_dec_january_power']]\n",
    "diff.head()"
   ]
  },
  {
   "cell_type": "code",
   "execution_count": 6,
   "metadata": {},
   "outputs": [
    {
     "name": "stdout",
     "output_type": "stream",
     "text": [
      "(14606, 28)\n"
     ]
    }
   ],
   "source": [
    "df = pd.merge(df, diff, on='id', how='left')\n",
    "\n",
    "print(df.shape)"
   ]
  },
  {
   "cell_type": "code",
   "execution_count": 7,
   "metadata": {},
   "outputs": [
    {
     "name": "stdout",
     "output_type": "stream",
     "text": [
      "0        1\n",
      "1        0\n",
      "2        0\n",
      "3        0\n",
      "4        0\n",
      "        ..\n",
      "14601    0\n",
      "14602    1\n",
      "14603    1\n",
      "14604    0\n",
      "14605    0\n",
      "Name: churn, Length: 14606, dtype: int64\n"
     ]
    },
    {
     "data": {
      "image/png": "[encoded data removed]",
      "text/plain": [
       "<Figure size 800x800 with 4 Axes>"
      ]
     },
     "metadata": {},
     "output_type": "display_data"
    }
   ],
   "source": [
    "print(df['churn'])\n",
    "\n",
    "# plot the distribution of the difference by churn\n",
    "fig, axes = plt.subplots(2, 2, figsize=(8, 8))\n",
    "\n",
    "# energy price difference - histogram\n",
    "sns.histplot(data=df.loc[df['churn'] == 0], x='offpeak_diff_dec_january_energy', stat='density', ax=axes[0, 0], bins=30, label='churn')\n",
    "sns.histplot(data=df.loc[df['churn'] == 1], x='offpeak_diff_dec_january_energy', stat='density', ax=axes[0, 0], bins=30, label='no churn')\n",
    "axes[0, 0].set_title('Energy price difference')\n",
    "axes[0, 0].legend()\n",
    "axes[0, 0].set_xlabel('')\n",
    "axes[0, 0].set_ylabel('')\n",
    "\n",
    "# power price difference - histogram\n",
    "sns.histplot(data=df.loc[df['churn'] == 0], x='offpeak_diff_dec_january_power', stat='density', ax=axes[0, 1], bins=30, label='churn')\n",
    "sns.histplot(data=df.loc[df['churn'] == 1], x='offpeak_diff_dec_january_power', stat='density', ax=axes[0, 1], bins=30, label='no churn')\n",
    "axes[0, 1].legend()\n",
    "axes[0, 1].set_title('Power price difference')\n",
    "axes[0, 1].legend()\n",
    "axes[0, 1].set_xlabel('')\n",
    "axes[0, 1].set_ylabel('')\n",
    "\n",
    "# energy price difference - boxplot\n",
    "sns.boxplot(data=df, x='churn', y='offpeak_diff_dec_january_energy', ax=axes[1, 0])\n",
    "axes[1, 0].set_ylabel('')\n",
    "\n",
    "# power price difference - boxplot\n",
    "sns.boxplot(data=df, x='churn', y='offpeak_diff_dec_january_power', ax=axes[1, 1])\n",
    "axes[1, 1].set_ylabel('')\n",
    "\n",
    "plt.tight_layout()\n",
    "plt.show()\n",
    "\n",
    "\n",
    "\n",
    "\n"
   ]
  },
  {
   "cell_type": "code",
   "execution_count": 8,
   "metadata": {},
   "outputs": [
    {
     "name": "stdout",
     "output_type": "stream",
     "text": [
      "(14606, 28)\n"
     ]
    }
   ],
   "source": [
    "# check if there are any missing values\n",
    "print(df.shape)"
   ]
  },
  {
   "cell_type": "code",
   "execution_count": 9,
   "metadata": {},
   "outputs": [
    {
     "data": {
      "text/plain": [
       "<AxesSubplot:xlabel='offpeak_diff_dec_january_energy', ylabel='offpeak_diff_dec_january_power'>"
      ]
     },
     "execution_count": 9,
     "metadata": {},
     "output_type": "execute_result"
    },
    {
     "data": {
      "image/png": "[encoded data removed]",
      "text/plain": [
       "<Figure size 640x480 with 1 Axes>"
      ]
     },
     "metadata": {},
     "output_type": "display_data"
    }
   ],
   "source": [
    "# scatter plot of the difference by churn\n",
    "sns.scatterplot(data=df, x='offpeak_diff_dec_january_energy', y='offpeak_diff_dec_january_power', hue='churn')"
   ]
  },
  {
   "cell_type": "markdown",
   "metadata": {},
   "source": [
    "##### Categorical values"
   ]
  },
  {
   "cell_type": "code",
   "execution_count": 10,
   "metadata": {},
   "outputs": [
    {
     "data": {
      "text/plain": [
       "lxidpiddsbxsbosboudacockeimpuepw    7097\n",
       "kamkkxfxxuwbdslkwifmmcsiusiuosws    4294\n",
       "ldkssxwpmemidmecebumciepifcamkci    3148\n",
       "MISSING                               64\n",
       "other                                  3\n",
       "Name: origin_up, dtype: int64"
      ]
     },
     "execution_count": 10,
     "metadata": {},
     "output_type": "execute_result"
    }
   ],
   "source": [
    "\n",
    "other_companies = df['origin_up'].value_counts().loc[lambda x: x < 10].index.tolist()\n",
    "\n",
    "# replace them with 'other'\n",
    "df['origin_up'].replace(other_companies, 'other', inplace=True)\n",
    "\n",
    "df['origin_up'].value_counts()\n",
    "\n"
   ]
  },
  {
   "cell_type": "code",
   "execution_count": 11,
   "metadata": {},
   "outputs": [
    {
     "data": {
      "text/plain": [
       "6        4769\n",
       "4        3982\n",
       "3        2433\n",
       "5        2317\n",
       "7         509\n",
       "11        185\n",
       "12        110\n",
       "8         103\n",
       "9          92\n",
       "10         81\n",
       "other      25\n",
       "Name: num_years_antig, dtype: int64"
      ]
     },
     "execution_count": 11,
     "metadata": {},
     "output_type": "execute_result"
    }
   ],
   "source": [
    "other_num_years = df['num_years_antig'].value_counts().loc[lambda x: x < 20].index.tolist()\n",
    "\n",
    "# replace them with 'other'\n",
    "df['num_years_antig'].replace(other_num_years, 'other', inplace=True)\n",
    "\n",
    "df['num_years_antig'].value_counts()"
   ]
  },
  {
   "cell_type": "code",
   "execution_count": 12,
   "metadata": {},
   "outputs": [
    {
     "data": {
      "text/plain": [
       "foosdfpfkusacimwkcsosbicdxkicaua    6754\n",
       "MISSING                             3725\n",
       "lmkebamcaaclubfxadlmueccxoimlema    1843\n",
       "usilxuppasemubllopkaafesmlibmsdf    1375\n",
       "ewpakwlliwisiwduibdlfmalxowmwpci     893\n",
       "other                                 16\n",
       "Name: channel_sales, dtype: int64"
      ]
     },
     "execution_count": 12,
     "metadata": {},
     "output_type": "execute_result"
    }
   ],
   "source": [
    "df['channel_sales'].value_counts()\n",
    "\n",
    "other_channel_sales = df['channel_sales'].value_counts().loc[lambda x: x < 20].index.tolist()\n",
    "\n",
    "# replace them with 'other'\n",
    "df['channel_sales'].replace(other_channel_sales, 'other', inplace=True)\n",
    "\n",
    "df['channel_sales'].value_counts()\n",
    "\n"
   ]
  },
  {
   "cell_type": "markdown",
   "metadata": {},
   "source": [
    "##### Drop dates"
   ]
  },
  {
   "cell_type": "code",
   "execution_count": 13,
   "metadata": {},
   "outputs": [
    {
     "data": {
      "text/html": [
       "<div>\n",
       "<style scoped>\n",
       "    .dataframe tbody tr th:only-of-type {\n",
       "        vertical-align: middle;\n",
       "    }\n",
       "\n",
       "    .dataframe tbody tr th {\n",
       "        vertical-align: top;\n",
       "    }\n",
       "\n",
       "    .dataframe thead th {\n",
       "        text-align: right;\n",
       "    }\n",
       "</style>\n",
       "<table border=\"1\" class=\"dataframe\">\n",
       "  <thead>\n",
       "    <tr style=\"text-align: right;\">\n",
       "      <th></th>\n",
       "      <th>id</th>\n",
       "      <th>channel_sales</th>\n",
       "      <th>cons_gas_12m</th>\n",
       "      <th>cons_last_month</th>\n",
       "      <th>forecast_discount_energy</th>\n",
       "      <th>forecast_meter_rent_12m</th>\n",
       "      <th>forecast_price_energy_off_peak</th>\n",
       "      <th>forecast_price_energy_peak</th>\n",
       "      <th>forecast_price_pow_off_peak</th>\n",
       "      <th>has_gas</th>\n",
       "      <th>imp_cons</th>\n",
       "      <th>margin_net_pow_ele</th>\n",
       "      <th>nb_prod_act</th>\n",
       "      <th>net_margin</th>\n",
       "      <th>num_years_antig</th>\n",
       "      <th>origin_up</th>\n",
       "      <th>pow_max</th>\n",
       "      <th>churn</th>\n",
       "      <th>offpeak_diff_dec_january_energy</th>\n",
       "      <th>offpeak_diff_dec_january_power</th>\n",
       "    </tr>\n",
       "  </thead>\n",
       "  <tbody>\n",
       "    <tr>\n",
       "      <th>0</th>\n",
       "      <td>24011ae4ebbe3035111d65fa7c15bc57</td>\n",
       "      <td>foosdfpfkusacimwkcsosbicdxkicaua</td>\n",
       "      <td>54946</td>\n",
       "      <td>0</td>\n",
       "      <td>0.0</td>\n",
       "      <td>1.78</td>\n",
       "      <td>0.114481</td>\n",
       "      <td>0.098142</td>\n",
       "      <td>40.606701</td>\n",
       "      <td>t</td>\n",
       "      <td>0.00</td>\n",
       "      <td>25.44</td>\n",
       "      <td>2</td>\n",
       "      <td>678.99</td>\n",
       "      <td>3</td>\n",
       "      <td>lxidpiddsbxsbosboudacockeimpuepw</td>\n",
       "      <td>43.648</td>\n",
       "      <td>1</td>\n",
       "      <td>0.020057</td>\n",
       "      <td>3.700961</td>\n",
       "    </tr>\n",
       "    <tr>\n",
       "      <th>1</th>\n",
       "      <td>d29c2c54acc38ff3c0614d0a653813dd</td>\n",
       "      <td>MISSING</td>\n",
       "      <td>0</td>\n",
       "      <td>0</td>\n",
       "      <td>0.0</td>\n",
       "      <td>16.27</td>\n",
       "      <td>0.145711</td>\n",
       "      <td>0.000000</td>\n",
       "      <td>44.311378</td>\n",
       "      <td>f</td>\n",
       "      <td>0.00</td>\n",
       "      <td>16.38</td>\n",
       "      <td>1</td>\n",
       "      <td>18.89</td>\n",
       "      <td>6</td>\n",
       "      <td>kamkkxfxxuwbdslkwifmmcsiusiuosws</td>\n",
       "      <td>13.800</td>\n",
       "      <td>0</td>\n",
       "      <td>-0.003767</td>\n",
       "      <td>0.177779</td>\n",
       "    </tr>\n",
       "    <tr>\n",
       "      <th>2</th>\n",
       "      <td>764c75f661154dac3a6c254cd082ea7d</td>\n",
       "      <td>foosdfpfkusacimwkcsosbicdxkicaua</td>\n",
       "      <td>0</td>\n",
       "      <td>0</td>\n",
       "      <td>0.0</td>\n",
       "      <td>38.72</td>\n",
       "      <td>0.165794</td>\n",
       "      <td>0.087899</td>\n",
       "      <td>44.311378</td>\n",
       "      <td>f</td>\n",
       "      <td>0.00</td>\n",
       "      <td>28.60</td>\n",
       "      <td>1</td>\n",
       "      <td>6.60</td>\n",
       "      <td>6</td>\n",
       "      <td>kamkkxfxxuwbdslkwifmmcsiusiuosws</td>\n",
       "      <td>13.856</td>\n",
       "      <td>0</td>\n",
       "      <td>-0.004670</td>\n",
       "      <td>0.177779</td>\n",
       "    </tr>\n",
       "    <tr>\n",
       "      <th>3</th>\n",
       "      <td>bba03439a292a1e166f80264c16191cb</td>\n",
       "      <td>lmkebamcaaclubfxadlmueccxoimlema</td>\n",
       "      <td>0</td>\n",
       "      <td>0</td>\n",
       "      <td>0.0</td>\n",
       "      <td>19.83</td>\n",
       "      <td>0.146694</td>\n",
       "      <td>0.000000</td>\n",
       "      <td>44.311378</td>\n",
       "      <td>f</td>\n",
       "      <td>0.00</td>\n",
       "      <td>30.22</td>\n",
       "      <td>1</td>\n",
       "      <td>25.46</td>\n",
       "      <td>6</td>\n",
       "      <td>kamkkxfxxuwbdslkwifmmcsiusiuosws</td>\n",
       "      <td>13.200</td>\n",
       "      <td>0</td>\n",
       "      <td>-0.004547</td>\n",
       "      <td>0.177779</td>\n",
       "    </tr>\n",
       "    <tr>\n",
       "      <th>4</th>\n",
       "      <td>149d57cf92fc41cf94415803a877cb4b</td>\n",
       "      <td>MISSING</td>\n",
       "      <td>0</td>\n",
       "      <td>526</td>\n",
       "      <td>0.0</td>\n",
       "      <td>131.73</td>\n",
       "      <td>0.116900</td>\n",
       "      <td>0.100015</td>\n",
       "      <td>40.606701</td>\n",
       "      <td>f</td>\n",
       "      <td>52.32</td>\n",
       "      <td>44.91</td>\n",
       "      <td>1</td>\n",
       "      <td>47.98</td>\n",
       "      <td>6</td>\n",
       "      <td>kamkkxfxxuwbdslkwifmmcsiusiuosws</td>\n",
       "      <td>19.800</td>\n",
       "      <td>0</td>\n",
       "      <td>-0.006192</td>\n",
       "      <td>0.162916</td>\n",
       "    </tr>\n",
       "  </tbody>\n",
       "</table>\n",
       "</div>"
      ],
      "text/plain": [
       "                                 id                     channel_sales  \\\n",
       "0  24011ae4ebbe3035111d65fa7c15bc57  foosdfpfkusacimwkcsosbicdxkicaua   \n",
       "1  d29c2c54acc38ff3c0614d0a653813dd                           MISSING   \n",
       "2  764c75f661154dac3a6c254cd082ea7d  foosdfpfkusacimwkcsosbicdxkicaua   \n",
       "3  bba03439a292a1e166f80264c16191cb  lmkebamcaaclubfxadlmueccxoimlema   \n",
       "4  149d57cf92fc41cf94415803a877cb4b                           MISSING   \n",
       "\n",
       "   cons_gas_12m  cons_last_month  forecast_discount_energy  \\\n",
       "0         54946                0                       0.0   \n",
       "1             0                0                       0.0   \n",
       "2             0                0                       0.0   \n",
       "3             0                0                       0.0   \n",
       "4             0              526                       0.0   \n",
       "\n",
       "   forecast_meter_rent_12m  forecast_price_energy_off_peak  \\\n",
       "0                     1.78                        0.114481   \n",
       "1                    16.27                        0.145711   \n",
       "2                    38.72                        0.165794   \n",
       "3                    19.83                        0.146694   \n",
       "4                   131.73                        0.116900   \n",
       "\n",
       "   forecast_price_energy_peak  forecast_price_pow_off_peak has_gas  imp_cons  \\\n",
       "0                    0.098142                    40.606701       t      0.00   \n",
       "1                    0.000000                    44.311378       f      0.00   \n",
       "2                    0.087899                    44.311378       f      0.00   \n",
       "3                    0.000000                    44.311378       f      0.00   \n",
       "4                    0.100015                    40.606701       f     52.32   \n",
       "\n",
       "   margin_net_pow_ele  nb_prod_act  net_margin num_years_antig  \\\n",
       "0               25.44            2      678.99               3   \n",
       "1               16.38            1       18.89               6   \n",
       "2               28.60            1        6.60               6   \n",
       "3               30.22            1       25.46               6   \n",
       "4               44.91            1       47.98               6   \n",
       "\n",
       "                          origin_up  pow_max  churn  \\\n",
       "0  lxidpiddsbxsbosboudacockeimpuepw   43.648      1   \n",
       "1  kamkkxfxxuwbdslkwifmmcsiusiuosws   13.800      0   \n",
       "2  kamkkxfxxuwbdslkwifmmcsiusiuosws   13.856      0   \n",
       "3  kamkkxfxxuwbdslkwifmmcsiusiuosws   13.200      0   \n",
       "4  kamkkxfxxuwbdslkwifmmcsiusiuosws   19.800      0   \n",
       "\n",
       "   offpeak_diff_dec_january_energy  offpeak_diff_dec_january_power  \n",
       "0                         0.020057                        3.700961  \n",
       "1                        -0.003767                        0.177779  \n",
       "2                        -0.004670                        0.177779  \n",
       "3                        -0.004547                        0.177779  \n",
       "4                        -0.006192                        0.162916  "
      ]
     },
     "execution_count": 13,
     "metadata": {},
     "output_type": "execute_result"
    }
   ],
   "source": [
    "df.drop(columns=['date_activ', 'date_modif_prod', 'date_renewal', 'date_end', 'margin_gross_pow_ele', 'cons_12m', 'forecast_cons_12m', 'forecast_cons_year'], inplace=True)\n",
    "\n",
    "df.head()"
   ]
  },
  {
   "cell_type": "code",
   "execution_count": null,
   "metadata": {},
   "outputs": [],
   "source": [
    "\n"
   ]
  },
  {
   "cell_type": "code",
   "execution_count": 14,
   "metadata": {},
   "outputs": [
    {
     "name": "stdout",
     "output_type": "stream",
     "text": [
      "(14606,)\n"
     ]
    }
   ],
   "source": [
    "print(df['churn'].shape)"
   ]
  },
  {
   "cell_type": "code",
   "execution_count": 15,
   "metadata": {},
   "outputs": [
    {
     "name": "stdout",
     "output_type": "stream",
     "text": [
      "(14606, 20)\n"
     ]
    }
   ],
   "source": [
    "# check how many columns\n",
    "\n",
    "print(df.shape)\n"
   ]
  },
  {
   "cell_type": "code",
   "execution_count": 16,
   "metadata": {},
   "outputs": [],
   "source": [
    "from sklearn.metrics import accuracy_score, precision_score, recall_score, f1_score, precision_recall_curve\n",
    "\n",
    "def print_scores(y_true, y_pred):\n",
    "    print(f'Accuacy: {accuracy_score(y_true, y_pred):.2f}')\n",
    "    print(f'Precision: {precision_score(y_true, y_pred, zero_division=0):.2f}')\n",
    "    print(f'Recall: {recall_score(y_true, y_pred, zero_division=0):.2f}')\n",
    "    print(f'F1: {f1_score(y_true, y_pred, zero_division=0):.2f}')\n"
   ]
  },
  {
   "cell_type": "code",
   "execution_count": 124,
   "metadata": {},
   "outputs": [
    {
     "name": "stdout",
     "output_type": "stream",
     "text": [
      "[9.04073697e-01 9.59193598e-02 4.93778618e-06]\n"
     ]
    }
   ],
   "source": [
    "from sklearn.model_selection import train_test_split\n",
    "\n",
    "X = pd.get_dummies(df.drop(columns='churn'))\n",
    "y = df.churn\n",
    "\n",
    "# perform pca on the data\n",
    "\n",
    "from sklearn.decomposition import PCA\n",
    "\n",
    "pca = PCA(n_components=3)\n",
    "\n",
    "X_pca = pca.fit_transform(X)\n",
    "\n",
    "#  see the importance of each component\n",
    "\n",
    "print(pca.explained_variance_ratio_)\n",
    "\n",
    "X_train, X_test, y_train, y_test = train_test_split(X_pca, y, test_size=.2, stratify=y, random_state=42)\n"
   ]
  },
  {
   "cell_type": "code",
   "execution_count": 125,
   "metadata": {},
   "outputs": [
    {
     "name": "stdout",
     "output_type": "stream",
     "text": [
      "Train scores:\n",
      "Accuacy: 0.97\n",
      "Precision: 1.00\n",
      "Recall: 0.71\n",
      "F1: 0.83\n",
      "\n",
      "Test scores:\n",
      "Accuacy: 0.90\n",
      "Precision: 0.33\n",
      "Recall: 0.04\n",
      "F1: 0.07\n"
     ]
    }
   ],
   "source": [
    "from sklearn.pipeline import Pipeline\n",
    "from sklearn.preprocessing import StandardScaler\n",
    "from sklearn.ensemble import RandomForestClassifier\n",
    "\n",
    "pipeline = Pipeline([\n",
    "    ('scaler', StandardScaler()),\n",
    "    ('rf', RandomForestClassifier(random_state=42))\n",
    "])\n",
    "\n",
    "pipeline.fit(X_train, y_train)\n",
    "\n",
    "y_pred_train = pipeline.predict(X_train)\n",
    "y_pred_test = pipeline.predict(X_test)\n",
    "\n",
    "print('Train scores:')\n",
    "\n",
    "print_scores(y_train, y_pred_train)\n",
    "\n",
    "\n",
    "print()\n",
    "print('Test scores:')\n",
    "print_scores(y_test, y_pred_test)\n"
   ]
  },
  {
   "cell_type": "markdown",
   "metadata": {},
   "source": [
    "> We are making good results on the train set, but not on the test set. This is a sign of overfitting. We need to adjust our hyperparameters to reduce overfitting."
   ]
  },
  {
   "cell_type": "code",
   "execution_count": 166,
   "metadata": {},
   "outputs": [
    {
     "name": "stdout",
     "output_type": "stream",
     "text": [
      "Fitting 5 folds for each of 10 candidates, totalling 50 fits\n",
      "Train scores:\n",
      "Accuacy: 0.90\n",
      "Precision: 1.00\n",
      "Recall: 0.02\n",
      "F1: 0.04\n",
      "\n",
      "Test scores:\n",
      "Accuacy: 0.90\n",
      "Precision: 1.00\n",
      "Recall: 0.01\n",
      "F1: 0.02\n"
     ]
    },
    {
     "data": {
      "text/plain": [
       "{'rf__n_estimators': 20,\n",
       " 'rf__min_samples_split': 1,\n",
       " 'rf__min_samples_leaf': 5,\n",
       " 'rf__max_features': 'log2',\n",
       " 'rf__max_depth': 50}"
      ]
     },
     "execution_count": 166,
     "metadata": {},
     "output_type": "execute_result"
    }
   ],
   "source": [
    "# randomized search\n",
    "\n",
    "from sklearn.model_selection import RandomizedSearchCV\n",
    "\n",
    "# define the parameters\n",
    "\n",
    "param_grid = {\n",
    "    'rf__n_estimators': [20],\n",
    "    'rf__max_depth': [50],\n",
    "    'rf__min_samples_split': [1, 10, 15, 20],\n",
    "    'rf__min_samples_leaf': [5, 10, 15],\n",
    "    'rf__max_features': ['log2'],\n",
    "\n",
    "}\n",
    "\n",
    "\n",
    "\n",
    "search = RandomizedSearchCV(pipeline, param_grid, n_iter=10, scoring='f1', n_jobs=-1, cv=5, verbose=1, random_state=42)\n",
    "\n",
    "search.fit(X_train, y_train)\n",
    "\n",
    "# test scores\n",
    "\n",
    "y_pred_train = search.predict(X_train)\n",
    "\n",
    "y_pred_test = search.predict(X_test)\n",
    "\n",
    "print('Train scores:')\n",
    "\n",
    "print_scores(y_train, y_pred_train)\n",
    "\n",
    "\n",
    "print()\n",
    "\n",
    "print('Test scores:')\n",
    "\n",
    "print_scores(y_test, y_pred_test)\n",
    "\n",
    "# get the best parameters\n",
    "\n",
    "search.best_params_\n",
    "\n"
   ]
  },
  {
   "cell_type": "markdown",
   "metadata": {},
   "source": [
    "> After adjusting the hyperparameters, we have a good accuracy and precision this mean that we are preddicting well the positive values. But we have a low recall, this mean that we are not predicting well the negative values. THis mean that the price feature is not a very good feature to predict the churn it may help but we maybe need to demand more features."
   ]
  }
 ],
 "metadata": {
  "kernelspec": {
   "display_name": "Python 3.10.12 64-bit",
   "language": "python",
   "name": "python3"
  },
  "language_info": {
   "codemirror_mode": {
    "name": "ipython",
    "version": 3
   },
   "file_extension": ".py",
   "mimetype": "text/x-python",
   "name": "python",
   "nbconvert_exporter": "python",
   "pygments_lexer": "ipython3",
   "version": "3.10.12"
  },
  "vscode": {
   "interpreter": {
    "hash": "e7370f93d1d0cde622a1f8e1c04877d8463912d04d973331ad4851f04de6915a"
   }
  }
 },
 "nbformat": 4,
 "nbformat_minor": 4
}
